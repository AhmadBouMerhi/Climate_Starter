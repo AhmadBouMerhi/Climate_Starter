{
 "cells": [
  {
   "cell_type": "code",
   "execution_count": 1,
   "metadata": {},
   "outputs": [],
   "source": [
    "import numpy as np\n",
    "import datetime as dt\n"
   ]
  },
  {
   "cell_type": "code",
   "execution_count": 2,
   "metadata": {},
   "outputs": [],
   "source": [
    "import sqlalchemy\n",
    "from sqlalchemy.ext.automap import automap_base\n",
    "from sqlalchemy.orm import Session\n",
    "from sqlalchemy import create_engine, func\n",
    "\n",
    "from flask import Flask, jsonify"
   ]
  },
  {
   "cell_type": "code",
   "execution_count": 3,
   "metadata": {},
   "outputs": [],
   "source": [
    "engine = create_engine(\"sqlite:///../Resources/hawaii.sqlite\")"
   ]
  },
  {
   "cell_type": "code",
   "execution_count": 4,
   "metadata": {},
   "outputs": [],
   "source": [
    "# reflect an existing database into a new model\n",
    "Base = automap_base()\n",
    "# reflect the tables\n",
    "Base.prepare(engine, reflect=True)"
   ]
  },
  {
   "cell_type": "code",
   "execution_count": 5,
   "metadata": {},
   "outputs": [],
   "source": [
    "# Save references to each table\n",
    "Measurement = Base.classes.measurement\n",
    "Station = Base.classes.station\n"
   ]
  },
  {
   "cell_type": "code",
   "execution_count": 6,
   "metadata": {},
   "outputs": [],
   "source": [
    "# Create our session (link) from Python to the DB\n",
    "session = Session(engine)"
   ]
  },
  {
   "cell_type": "code",
   "execution_count": 7,
   "metadata": {},
   "outputs": [],
   "source": [
    "# Using Flask to create routes\n",
    "app = Flask(__name__)\n"
   ]
  },
  {
   "cell_type": "code",
   "execution_count": 8,
   "metadata": {},
   "outputs": [],
   "source": [
    "# Creating flask routes\n",
    "@app.route(\"/\")\n",
    "def welcome():\n",
    "    \"\"\"List all available api routes.\"\"\"\n",
    "    return (\n",
    "        f\"Available Routes:<br/>\"\n",
    "        f\"/api/v1.0/precipitation<br/>\"\n",
    "        f\"/api/v1.0/stations<br/>\"\n",
    "        f\"/api/v1.0/tobs<br/>\"\n",
    "        f\"/api/v1.0/(start date)<br/>\"\n",
    "        f\"/api/v1.0/(start date)/(end date)<br/>\"\n",
    "    )\n"
   ]
  },
  {
   "cell_type": "code",
   "execution_count": 9,
   "metadata": {},
   "outputs": [],
   "source": [
    "@app.route(\"/api/v1.0/precipitation\")\n",
    "def prcp():\n",
    "    \"\"\"Return all dates and precipitation observations from the last 1 year, \n",
    "    convert the query results to a dictionary using date as the key and prcp as the value, \n",
    "    and return the JSON representation of this dictionary.\"\"\"\n",
    "    year_delta = dt.date.today() - dt.timedelta(days=365)\n",
    "    results = session.query(Measurement.date, Measurement.prcp).filter(Measurement.date >= year_delta).all()\n",
    "    prcp_dict = {}\n",
    "    prcp_num = 0\n",
    "    current_date = \"\"\n",
    "    for measurement in results:\n",
    "        prcp_num += 1\n",
    "        prcp_dict[measurement[0]+f\" (measurement {prcp_num})\"] = measurement[1]\n",
    "    return jsonify(prcp_dict)"
   ]
  },
  {
   "cell_type": "code",
   "execution_count": 10,
   "metadata": {},
   "outputs": [],
   "source": [
    "@app.route(\"/api/v1.0/stations\")\n",
    "def stations():\n",
    "    \"\"\"Return a JSON list of stations from the dataset.\"\"\"\n",
    "    results = session.query(Station.station).all()\n",
    "    station_list = []\n",
    "    for station in results:\n",
    "        station_list.append(station[0])\n",
    "    return jsonify(station_list)"
   ]
  },
  {
   "cell_type": "code",
   "execution_count": 21,
   "metadata": {},
   "outputs": [
    {
     "ename": "IndentationError",
     "evalue": "unexpected indent (<ipython-input-21-fea0f124b8ce>, line 16)",
     "output_type": "error",
     "traceback": [
      "\u001b[0;36m  File \u001b[0;32m\"<ipython-input-21-fea0f124b8ce>\"\u001b[0;36m, line \u001b[0;32m16\u001b[0m\n\u001b[0;31m    \"\"\"TMIN, TAVG, and TMAX for a list of dates.\u001b[0m\n\u001b[0m    ^\u001b[0m\n\u001b[0;31mIndentationError\u001b[0m\u001b[0;31m:\u001b[0m unexpected indent\n"
     ]
    }
   ],
   "source": [
    "app.route(\"/api/v1.0/tobs\")\n",
    "def tobs():\n",
    "    \"\"\"Return a JSON list of Temperature Observations (tobs) for the last 1 year.\"\"\"\n",
    "    year_delta = dt.date.today() - dt.timedelta(days=365)\n",
    "    results = session.query(Measurement.tobs).filter(Measurement.date >= year_delta).all()\n",
    "    tobs_list = []\n",
    "    for tobs in results:\n",
    "        tobs_list.append(tobs[0])\n",
    "    return jsonify(tobs_list)\n",
    "\n",
    "@app.route(\"/api/v1.0/<start>\")\n",
    "@app.route(\"/api/v1.0/<start>/<end>\")\n",
    "def calc_temps(start=None, end=\"2018-10-07\"):\n",
    "   pass\n",
    "\n",
    "    \"\"\"TMIN, TAVG, and TMAX for a list of dates.\n",
    "\n",
    "Args:\n",
    "        start (string): A date string in the format %Y-%m-%d\n",
    "        end (string): A date string in the format %Y-%m-%d\n",
    "        \n",
    "    Returns:\n",
    "        TMIN, TAVE, and TMAX\n",
    "    \"\"\"\n",
    "    \n",
    "    \n",
    "    results = session.query(func.min(Measurement.tobs), func.avg(Measurement.tobs), func.max(Measurement.tobs)).\\\n",
    "        filter(Measurement.date >= start).filter(Measurement.date <= end).all()\n",
    "\n",
    "    # Create a dictionary from the row data and append to a list of all temperatures\n",
    "    temps_list = []\n",
    "    for temp in results:\n",
    "        temps_dict = {}\n",
    "        temps_dict[\"minimum\"] = results[0][0]\n",
    "        temps_dict[\"average\"] = results[0][1]\n",
    "        temps_dict[\"maximum\"] = results[0][2]\n",
    "        temps_list.append(temps_dict)\n",
    "    return jsonify(temps_dict)\n",
    "\n",
    "\n",
    "if __name__ == '__main__' \"w\":\n",
    "    app.run(debug=False)\n"
   ]
  },
  {
   "cell_type": "code",
   "execution_count": null,
   "metadata": {},
   "outputs": [],
   "source": []
  }
 ],
 "metadata": {
  "kernelspec": {
   "display_name": "Python 3",
   "language": "python",
   "name": "python3"
  },
  "language_info": {
   "codemirror_mode": {
    "name": "ipython",
    "version": 3
   },
   "file_extension": ".py",
   "mimetype": "text/x-python",
   "name": "python",
   "nbconvert_exporter": "python",
   "pygments_lexer": "ipython3",
   "version": "3.6.5"
  }
 },
 "nbformat": 4,
 "nbformat_minor": 2
}
